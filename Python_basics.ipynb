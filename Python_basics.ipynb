{
 "cells": [
  {
   "cell_type": "code",
   "execution_count": 2,
   "metadata": {},
   "outputs": [
    {
     "name": "stdout",
     "output_type": "stream",
     "text": [
      "Python practice worksheet to play around with basics\n"
     ]
    }
   ],
   "source": [
    "print(\"Python practice worksheet to play around with basics\")\n"
   ]
  },
  {
   "cell_type": "code",
   "execution_count": 1,
   "metadata": {},
   "outputs": [
    {
     "ename": "NameError",
     "evalue": "name 'var3' is not defined",
     "output_type": "error",
     "traceback": [
      "\u001b[1;31m---------------------------------------------------------------------------\u001b[0m",
      "\u001b[1;31mNameError\u001b[0m                                 Traceback (most recent call last)",
      "\u001b[1;32m<ipython-input-1-425bfee1aac8>\u001b[0m in \u001b[0;36m<module>\u001b[1;34m\u001b[0m\n\u001b[0;32m      1\u001b[0m \u001b[0mthe\u001b[0m \u001b[1;33m=\u001b[0m \u001b[0mlist\u001b[0m\u001b[1;33m(\u001b[0m\u001b[1;33m[\u001b[0m\u001b[1;36m1\u001b[0m\u001b[1;33m,\u001b[0m\u001b[1;36m2\u001b[0m\u001b[1;33m,\u001b[0m\u001b[1;36m34\u001b[0m\u001b[1;33m,\u001b[0m\u001b[1;36m5\u001b[0m\u001b[1;33m]\u001b[0m\u001b[1;33m)\u001b[0m\u001b[1;33m\u001b[0m\u001b[1;33m\u001b[0m\u001b[0m\n\u001b[1;32m----> 2\u001b[1;33m \u001b[0mvar3\u001b[0m\u001b[1;33m\u001b[0m\u001b[1;33m\u001b[0m\u001b[0m\n\u001b[0m",
      "\u001b[1;31mNameError\u001b[0m: name 'var3' is not defined"
     ]
    }
   ],
   "source": [
    "the = list([1,2,34,5])\n",
    "var3"
   ]
  },
  {
   "cell_type": "code",
   "execution_count": 9,
   "metadata": {},
   "outputs": [
    {
     "name": "stdout",
     "output_type": "stream",
     "text": [
      "<class 'str'>\n",
      "list3 vlue ['1', 2, 3, 'data', 'science', 1, 2, 34]\n",
      "index-0 1\n",
      "index-4 science\n"
     ]
    }
   ],
   "source": [
    "## \"\"\"#                                                 Module 1\n",
    "# What is a variable?\n",
    "# Python variables can be of int, float, character just like other programming languages.\n",
    "# List, tuple and dictionary are most important data structures which almost equate data types in python\n",
    "# List =[] #empty list creation\n",
    "# tuple= () #empty tuple creation\n",
    "# dictionary ={} #empty dictionary\n",
    "\n",
    "# #Python variables and data types\n",
    "# # anything\"\"\"\n",
    "a = 6\n",
    "b =8.9\n",
    "var = \"Gayatri\"\n",
    "varb='a'\n",
    "print(type(varb))\n",
    "# print(type(var3))\n",
    "var4 = [1,2,3,4]\n",
    "var5 =[\"jyothi\",\"Sai\",\"Venkat\",3]\n",
    "variable = 3       # integer variable\n",
    "var2 = 5\n",
    "var_float    = 3.5     #float\n",
    "var1 =\" Hello, world\"  #string\n",
    "var2 =\" data\" \n",
    "list_var2 =[1,2,3,4,5] #int #first way\n",
    "list9 =list([1,2,34]) #empty list\n",
    "p = \"1\" #char\n",
    "\n",
    "p2 =\"123\" #string\n",
    "p3 = 123\n",
    "List_var =[\"1\", 2,3, \"data\",\"science\"] \n",
    "list3 = List_var + list9\n",
    "print(\"list3 vlue\",list3)#in Python, indexing starts from 0\n",
    "print(\"index-0\",List_var[0])\n",
    "print(\"index-4\",List_var[4])\n",
    "#list  list_var[2]\n",
    "#(1,2), (3,4)\n"
   ]
  },
  {
   "cell_type": "code",
   "execution_count": 7,
   "metadata": {},
   "outputs": [
    {
     "name": "stdout",
     "output_type": "stream",
     "text": [
      "first method of creation dictionary {'Name': 'Gayatri', 'Age': 23}\n",
      "<class 'tuple'>\n",
      "second method of creation dictionary {1: 4, 2: 5, 3: 6}\n",
      "[23, 20]\n",
      "6\n",
      "3\n"
     ]
    }
   ],
   "source": [
    "# Dictionary is a collection of objects in key:value pair format\n",
    "#keys and values can be of any data type\n",
    "sictionary3 ={ 1:2 , 3:4, 5:6}\n",
    "dictionary_1 = {\"Name\": \"Gayatri\", \"Age\": 23 } #first method \n",
    "dictionary_2 ={\"Name\":[\"Gayatri\",\"Sahithi\"], \"Age\": [23,20]}\n",
    "dictionary3 ={1 :2, 3:4, 5:6}\n",
    "print(\"first method of creation dictionary\",dictionary_1)\n",
    "\n",
    "list1= [1,2,3]\n",
    "list1 = tuple(list1)\n",
    "print(type(list1))\n",
    "list2=[4,5,6]\n",
    "dict2 = dict(zip(list1,list2)) #second method \n",
    "#[1: 4 , 2:5 , 3:6]\n",
    "print(\"second method of creation dictionary\",dict2)\n",
    "print(dictionary_2[\"Age\"])\n",
    "print(dict2[3])\n",
    "print(list1[2])\n"
   ]
  },
  {
   "cell_type": "code",
   "execution_count": 3,
   "metadata": {},
   "outputs": [
    {
     "name": "stdout",
     "output_type": "stream",
     "text": [
      "<class 'str'>\n"
     ]
    }
   ],
   "source": [
    "print(type(var3))"
   ]
  },
  {
   "cell_type": "code",
   "execution_count": 4,
   "metadata": {},
   "outputs": [
    {
     "name": "stdout",
     "output_type": "stream",
     "text": [
      "tuple_var3 (1, 2, '1', 2, 3, 'data', 'science')\n",
      "tuple var ('1', 2, 3, 'data', 'science')\n",
      "tuple_var1 (1, 2)\n",
      "indexing 1\n",
      "value student\n"
     ]
    }
   ],
   "source": [
    "\"\"\" Tuple - tuple is an immutable data type in python\"\"\"\n",
    "tuple_var1 =(1,2,3,4) #first way\n",
    "tuple_var1 = (1,2)\n",
    "tuple_var = tuple(List_var) #type conversion from one form to another\n",
    "tuple_var3 = tuple_var1+tuple_var\n",
    "print(\"tuple_var3\",tuple_var3)\n",
    "print(\"tuple var\",tuple_var)\n",
    "print(\"tuple_var1\",tuple_var1)\n",
    "print(\"indexing\",tuple_var1[0])\n",
    "# 1_apple = \"apple\"\n",
    "list1= [\"Instructor\",\"coach\",\"mentor\"]\n",
    "list2=[\"student\",\"Player\",\"Mentee\"]\n",
    "Dictionary_1 = dict(zip(list1,list2))  # all the strings of list1 are keys, all strings of list2 are values.\n",
    "print(\"value\",Dictionary_1[\"Instructor\"]) #value of dictionary variable with key \"Instructor\"\n"
   ]
  },
  {
   "cell_type": "code",
   "execution_count": 5,
   "metadata": {},
   "outputs": [
    {
     "name": "stdout",
     "output_type": "stream",
     "text": [
      "sub1= -0.5\n",
      "type of sum1 <class 'float'>\n",
      "type of sub1 <class 'float'>\n",
      "multiplied 10.5\n",
      "division 0.8571428571428571\n"
     ]
    }
   ],
   "source": [
    "\"\"\"                                                  Module 2\n",
    "Operations form basic units of mathematical computations. Python supports following operations\n",
    "1. Arithmetic - addition, subtraction, division and multiplication\n",
    "2. comparison - greater than,equals to, less than, equals, greater than or equal to, less than or equal to\n",
    "3. Logical - and , or , implies, bi-implication\n",
    "4.Assignment, =, ==\n",
    "5. Bit wise \n",
    "6.Membership\n",
    "7.Identity\"\"\"\n",
    "# Python operations\n",
    "# int_variable = 3       # integer variable\n",
    "# int_var2 = 5\n",
    "kp = 3\n",
    "kpf = 3.5\n",
    "sum1 = kp +kpf\n",
    "sub1 = kp - kpf\n",
    "print(\"sub1=\",sub1) #subtraction\n",
    "print(\"type of sum1\",type(sum1)) #addition\n",
    "print(\"type of sub1\", type(sub1)) \n",
    "print(\"multiplied\", kp *kpf) #multiplication\n",
    "print(\"division\", kp/kpf) #division\n",
    "\n",
    "\n",
    "\n",
    "\n",
    "\n",
    "\n",
    "\n"
   ]
  },
  {
   "cell_type": "code",
   "execution_count": 10,
   "metadata": {},
   "outputs": [
    {
     "name": "stdout",
     "output_type": "stream",
     "text": [
      "first element a\n",
      "String_concatenation Gayatri came to class\n",
      "5 th element in var2 a\n"
     ]
    }
   ],
   "source": [
    "#String related operations\n",
    "# float_var    = 3.5     #float\n",
    "# var1 =\" Hello, world\"  #string\n",
    "# var2 =\" data\"\n",
    "var1 = \"Gayatri \"\n",
    "print(\"first element\",var1[1])\n",
    "gayatri = \"came to class\"\n",
    "String_concat = var1+ gayatri #string concatenation with + operator\n",
    "print(\"String_concatenation\",String_concat)\n",
    "print(\"5 th element in var2\", var1[4])\n",
    "\n"
   ]
  },
  {
   "cell_type": "code",
   "execution_count": 12,
   "metadata": {},
   "outputs": [
    {
     "name": "stdout",
     "output_type": "stream",
     "text": [
      "<class 'str'>\n",
      "<class 'int'>\n"
     ]
    }
   ],
   "source": [
    "a = 3 #int\n",
    "a1 = str(a) # a1 type= string\n",
    "b = \"4\" #string \n",
    "print(type(b))\n",
    "b1 = int(b) #int\n",
    "c =\"12345\"\n",
    "print(type(int(c)))"
   ]
  },
  {
   "cell_type": "code",
   "execution_count": 15,
   "metadata": {},
   "outputs": [
    {
     "name": "stdout",
     "output_type": "stream",
     "text": [
      " \n",
      "space type1   type2  \n",
      "slicing including 3  Get\n",
      "till 3  Ge\n",
      "begin and end et\n",
      "at 0  \n",
      "tuple_var1[0] 1\n",
      "string_str   data1\n",
      "boolean False\n",
      "4\n"
     ]
    }
   ],
   "source": [
    "# Slicing and dicing the strings\n",
    "#var 1= \" Hello, world\"\n",
    "#var2 = \" data\"\n",
    "# var1[\"starting point\":\"till the index specified\"]\n",
    "var1 =\"Get the work done\"\n",
    "print(var1[4])\n",
    "slice_string_including_3 = var1[2:4]\n",
    "print(\"space type1\", var1[8], \"type2\", var1[8:9])\n",
    "print(\"slicing including 3\",slice_string_including_3)\n",
    "slice_string_till_3 = var1[:3]\n",
    "print(\"till 3\", var1[:3])\n",
    "slice_string_index = var1[2:4]\n",
    "print(\"begin and end\",slice_string_index)\n",
    "char_at_3 = var1[3]\n",
    "char_at_0 =var1[0]\n",
    "print(\"at 0\",char_at_0)\n",
    "print(\"tuple_var1[0]\",tuple_var1[0])\n",
    "string_str = var2 +str(tuple_var1[0]) #\"1\" and not 1\n",
    "print(\"string_str \",string_str)\n",
    "x=3\n",
    "y=4\n",
    "\n"
   ]
  },
  {
   "cell_type": "code",
   "execution_count": 15,
   "metadata": {},
   "outputs": [
    {
     "name": "stdout",
     "output_type": "stream",
     "text": [
      "False\n",
      "boolean True\n",
      "4\n"
     ]
    },
    {
     "data": {
      "text/plain": [
       "True"
      ]
     },
     "execution_count": 15,
     "metadata": {},
     "output_type": "execute_result"
    }
   ],
   "source": [
    "\"\"\"assignment - =, ==\"\"\"\n",
    "x=3\n",
    "y=4\n",
    "print(x==y)\n",
    "print(\"boolean\",x!=y)\n",
    "x=y\n",
    "print(x) #assignment\n",
    "x==y"
   ]
  },
  {
   "cell_type": "code",
   "execution_count": 20,
   "metadata": {},
   "outputs": [
    {
     "name": "stdout",
     "output_type": "stream",
     "text": [
      "False\n",
      "False\n",
      "5 is 6 False\n",
      "True van\n",
      "True\n",
      "False\n"
     ]
    }
   ],
   "source": [
    "\n",
    "\"\"\" is and is not operators \"\"\"\n",
    "x= 5 is  6 # is and is not will return true or false only\n",
    "y = \"g3\" is \"k3\" #false\n",
    "print(y)\n",
    "print(x)\n",
    "print(\"5 is 6\",5 is 6) #false\n",
    "print( 5 is not 6,\"van\") #true\n",
    "\"\"\" in operator\"\"\"\n",
    "list1 = [12,13,14,15]\n",
    "print(12 in list1)\n",
    "print(10 in list1)\n"
   ]
  },
  {
   "cell_type": "code",
   "execution_count": 3,
   "metadata": {},
   "outputs": [
    {
     "name": "stdout",
     "output_type": "stream",
     "text": [
      "~x , ~y -1 -4\n",
      " -x,-y 0 -3\n",
      "Else is absent\n",
      "False\n"
     ]
    }
   ],
   "source": [
    "\"\"\"                                              Module -3\n",
    "Decision statements form an important part of control flow structures of any programming language \n",
    "1. If\n",
    "2. If -else\n",
    "3. Nested if else\n",
    "\n",
    "\n",
    "\"\"\"\n",
    "x=0\n",
    "y=3\n",
    "\" and , or , implies, bi implies\"\n",
    "\" and = &\"\n",
    "\"or = | \"\n",
    "\n",
    "if x!=0 & y!=3:        #logical operation \n",
    "    print(x,y)\n",
    "else:\n",
    "    print(\"~x , ~y\",~x, ~y)\n",
    "    print(\" -x,-y\",-x, -y)\n",
    "    \n",
    "    \n",
    "if \"python is cool\"== \"pythonis cool\":\n",
    "    print(True)\n",
    "print(\"Else is absent\")\n",
    " \n",
    "if  3 in [\"This is interesting\"]:\n",
    "    print(\"True\")\n",
    "else:\n",
    "    print(\"False\")"
   ]
  },
  {
   "cell_type": "code",
   "execution_count": 22,
   "metadata": {},
   "outputs": [
    {
     "name": "stdout",
     "output_type": "stream",
     "text": [
      "ML\n",
      "AI\n",
      "DS\n",
      "DL\n",
      "1\n",
      "<class 'int'>\n",
      "range(0, 4)\n",
      "index of elem ML is  0\n",
      "index of elem AI is  1\n",
      "index of elem DS is  2\n",
      "index of elem DL is  3\n",
      "index of elem 1 is  4\n",
      "10 equals 2 * 5\n",
      "11 is a prime number\n",
      "12 equals 2 * 6\n",
      "13 is a prime number\n",
      "14 equals 2 * 7\n",
      "15 equals 3 * 5\n",
      "16 equals 2 * 8\n",
      "17 is a prime number\n",
      "18 equals 2 * 9\n",
      "19 is a prime number\n"
     ]
    }
   ],
   "source": [
    "\"\"\"                                           Module -4\n",
    "Loops in python\n",
    "1. for loop\n",
    "2. while loop\n",
    "3. do while loop\n",
    "\"\"\"\n",
    "for_list =[\"ML\",\"AI\",\"DS\",\"DL\",1]\n",
    "\n",
    "\n",
    "\"\"\"For list syntax -1\"\"\"\n",
    "k=3\n",
    "for element in for_list:\n",
    "    print(element)\n",
    "print(type(element))\n",
    "#iterator- that which traverses through the iterable.\n",
    "#iterable - that which allows iterator to traverse through it. Lists, tuples, dictionaries, strings are iterables\n",
    "#in above example - for_list is iterable\n",
    "\n",
    "    \n",
    "\"\"\"For list syntax-2 \"\"\"\n",
    "\n",
    "print(range(4))\n",
    "for index in range(len(for_list)):\n",
    "    print(\"index of elem\",for_list[index],\"is \", index)\n",
    "\n",
    "\"\"\"For -else syntax\"\"\"\n",
    "\n",
    "for num in range(10,20):     #to iterate between 10 to 20\n",
    "    for i in range(2,num):    #to iterate on the factors of the number\n",
    "        if num%i == 0:         #to determine the first factor\n",
    "            j=num/i             #to calculate the second factor\n",
    "            print('%d equals %d * %d' % (num,i,j))\n",
    "            break #to move to the next number, the #first FOR\n",
    "    else:                  # else part of the loop\n",
    "        print( num, 'is a prime number')\n"
   ]
  },
  {
   "cell_type": "code",
   "execution_count": 11,
   "metadata": {},
   "outputs": [
    {
     "name": "stdout",
     "output_type": "stream",
     "text": [
      "Get the number7\n"
     ]
    }
   ],
   "source": [
    " a= int(input(\"Get the number\")) #string\n"
   ]
  },
  {
   "cell_type": "code",
   "execution_count": 12,
   "metadata": {},
   "outputs": [
    {
     "data": {
      "text/plain": [
       "int"
      ]
     },
     "execution_count": 12,
     "metadata": {},
     "output_type": "execute_result"
    }
   ],
   "source": [
    "type(a)"
   ]
  },
  {
   "cell_type": "code",
   "execution_count": null,
   "metadata": {},
   "outputs": [],
   "source": []
  }
 ],
 "metadata": {
  "kernelspec": {
   "display_name": "Python 3",
   "language": "python",
   "name": "python3"
  },
  "language_info": {
   "codemirror_mode": {
    "name": "ipython",
    "version": 3
   },
   "file_extension": ".py",
   "mimetype": "text/x-python",
   "name": "python",
   "nbconvert_exporter": "python",
   "pygments_lexer": "ipython3",
   "version": "3.7.3"
  }
 },
 "nbformat": 4,
 "nbformat_minor": 2
}
